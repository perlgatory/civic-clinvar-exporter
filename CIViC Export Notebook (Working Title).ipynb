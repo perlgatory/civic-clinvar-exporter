{
 "cells": [
  {
   "cell_type": "code",
   "execution_count": 7,
   "metadata": {
    "collapsed": false,
    "deletable": true,
    "editable": true
   },
   "outputs": [],
   "source": [
    "import requests\n",
    "import csv"
   ]
  },
  {
   "cell_type": "code",
   "execution_count": 2,
   "metadata": {
    "collapsed": true,
    "deletable": true,
    "editable": true
   },
   "outputs": [],
   "source": [
    "evidence_items_endpoint = 'https://civic.genome.wustl.edu/api/evidence_items'"
   ]
  },
  {
   "cell_type": "code",
   "execution_count": 3,
   "metadata": {
    "collapsed": false,
    "deletable": true,
    "editable": true
   },
   "outputs": [],
   "source": [
    "resp = requests.get(evidence_items_endpoint)\n",
    "resp.raise_for_status()"
   ]
  },
  {
   "cell_type": "code",
   "execution_count": 5,
   "metadata": {
    "collapsed": true,
    "deletable": true,
    "editable": true
   },
   "outputs": [],
   "source": [
    "records = resp.json()['records']"
   ]
  },
  {
   "cell_type": "code",
   "execution_count": 8,
   "metadata": {
    "collapsed": true
   },
   "outputs": [],
   "source": [
    "headers = ['Local ID', 'Linking ID', 'Gene Symbol', 'Chromosome', 'Start', 'Stop', 'Reference allele', 'Alternate allele', 'Condition ID', 'Condition ID value', 'Preferred condition name', 'Condition category', 'Clinical significance', 'Date last evaluated', 'Assertion method', 'Assertion method citation', 'Clinical significance citations', 'Comment on clinical significance', 'Explanation if clinical significance is other or drug response', 'Collection method', 'Allele origin', 'Affected status']"
   ]
  }
 ],
 "metadata": {
  "kernelspec": {
   "display_name": "Python 3",
   "language": "python",
   "name": "python3"
  },
  "language_info": {
   "codemirror_mode": {
    "name": "ipython",
    "version": 3
   },
   "file_extension": ".py",
   "mimetype": "text/x-python",
   "name": "python",
   "nbconvert_exporter": "python",
   "pygments_lexer": "ipython3",
   "version": "3.6.1"
  }
 },
 "nbformat": 4,
 "nbformat_minor": 0
}
